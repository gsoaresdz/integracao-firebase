{
 "cells": [
  {
   "attachments": {},
   "cell_type": "markdown",
   "metadata": {},
   "source": [
    "## Integração Python com o Firebase\n",
    "- API REST do banco de dados do Firebase\n",
    "https://firebase.google.com/docs/reference/rest/database?hl=pt-br"
   ]
  },
  {
   "attachments": {},
   "cell_type": "markdown",
   "metadata": {},
   "source": [
    "### Biblioteca\n",
    "- Instalação\n",
    "pip install requests"
   ]
  },
  {
   "attachments": {},
   "cell_type": "markdown",
   "metadata": {},
   "source": [
    "#### Importação dos módulos"
   ]
  },
  {
   "cell_type": "code",
   "execution_count": 29,
   "metadata": {},
   "outputs": [],
   "source": [
    "import requests\n",
    "import json"
   ]
  },
  {
   "attachments": {},
   "cell_type": "markdown",
   "metadata": {},
   "source": [
    "###### Link do Banco de Dados no Firebase"
   ]
  },
  {
   "cell_type": "code",
   "execution_count": 30,
   "metadata": {},
   "outputs": [],
   "source": [
    "link = \"\" #link do seu banco de dados"
   ]
  },
  {
   "attachments": {},
   "cell_type": "markdown",
   "metadata": {},
   "source": [
    "###### Criar Venda (POST)"
   ]
  },
  {
   "cell_type": "code",
   "execution_count": 9,
   "metadata": {},
   "outputs": [
    {
     "name": "stdout",
     "output_type": "stream",
     "text": [
      "<Response [200]>\n",
      "{\"name\":\"-NOl5SO1WdJK0bxmTLMc\"}\n"
     ]
    }
   ],
   "source": [
    "dados = {'cliente': 'João', 'preco': 150, 'produto': 'teclado'}\n",
    "requisicao = requests.post(f'{link}/Vendas/.json', data=json.dumps(dados))\n",
    "print(requisicao)\n",
    "print(requisicao.text)"
   ]
  },
  {
   "attachments": {},
   "cell_type": "markdown",
   "metadata": {},
   "source": [
    "###### Criar Produto (POST)"
   ]
  },
  {
   "cell_type": "code",
   "execution_count": 10,
   "metadata": {},
   "outputs": [
    {
     "name": "stdout",
     "output_type": "stream",
     "text": [
      "<Response [200]>\n",
      "{\"name\":\"-NOl5wcU9JgGfANyg8YA\"}\n"
     ]
    }
   ],
   "source": [
    "dados = {'nome': 'teclado', 'preco': 150, 'quantidade': 80}\n",
    "requisicao = requests.post(f'{link}/Produtos/.json', data=json.dumps(dados))\n",
    "print(requisicao)\n",
    "print(requisicao.text)"
   ]
  },
  {
   "attachments": {},
   "cell_type": "markdown",
   "metadata": {},
   "source": [
    "###### Editar Venda (PATCH)"
   ]
  },
  {
   "cell_type": "code",
   "execution_count": 12,
   "metadata": {},
   "outputs": [
    {
     "name": "stdout",
     "output_type": "stream",
     "text": [
      "<Response [200]>\n",
      "{\"cliente\":\"Maria\"}\n"
     ]
    }
   ],
   "source": [
    "dados = {'cliente': 'Maria'}\n",
    "requisacao = requests.patch(f'{link}/Vendas/-NOl5SO1WdJK0bxmTLMc/.json', data=json.dumps(dados))\n",
    "print(requisacao)\n",
    "print(requisacao.text)"
   ]
  },
  {
   "attachments": {},
   "cell_type": "markdown",
   "metadata": {},
   "source": [
    "###### Pegar todas vendas e produtos (GET)"
   ]
  },
  {
   "cell_type": "code",
   "execution_count": 24,
   "metadata": {},
   "outputs": [
    {
     "name": "stdout",
     "output_type": "stream",
     "text": [
      "<Response [200]>\n",
      "{'-NOl5wcU9JgGfANyg8YA': {'nome': 'teclado', 'preco': 150, 'quantidade': 80}, 'PID1': {'nome': 'fone de ouvido', 'preco': 200, 'quantidade': 500}}\n",
      "{'-NOl5SO1WdJK0bxmTLMc': {'cliente': 'Maria', 'preco': 150, 'produto': 'teclado'}, '-NOl5wcU9JgGfANyg8YA': {'cliente': 'Maria'}, 'ID1': {'cliente': 'Gabriel', 'preco': 200, 'produto': 'fone de ouvido'}}\n"
     ]
    }
   ],
   "source": [
    "requisacao = requests.get(f'{link}/.json')\n",
    "print(requisacao)\n",
    "dic_requisicao = requisacao.json()\n",
    "print(dic_requisicao['Produtos'])\n",
    "# print(dic_requisicao['Vendas'])"
   ]
  },
  {
   "attachments": {},
   "cell_type": "markdown",
   "metadata": {},
   "source": [
    "###### Pegando apenas Vendas (GET)"
   ]
  },
  {
   "cell_type": "code",
   "execution_count": 25,
   "metadata": {},
   "outputs": [
    {
     "name": "stdout",
     "output_type": "stream",
     "text": [
      "<Response [200]>\n",
      "{'-NOl5SO1WdJK0bxmTLMc': {'cliente': 'Maria', 'preco': 150, 'produto': 'teclado'}, '-NOl5wcU9JgGfANyg8YA': {'cliente': 'Maria'}, 'ID1': {'cliente': 'Gabriel', 'preco': 200, 'produto': 'fone de ouvido'}}\n"
     ]
    }
   ],
   "source": [
    "requisacao = requests.get(f'{link}/Vendas/.json')\n",
    "print(requisacao)\n",
    "print(dic_requisicao['Vendas'])"
   ]
  },
  {
   "attachments": {},
   "cell_type": "markdown",
   "metadata": {},
   "source": [
    "###### Pegando uma venda específica (GET)"
   ]
  },
  {
   "cell_type": "code",
   "execution_count": 34,
   "metadata": {},
   "outputs": [
    {
     "name": "stdout",
     "output_type": "stream",
     "text": [
      "<Response [200]>\n",
      "-NOl5wcU9JgGfANyg8YA\n"
     ]
    }
   ],
   "source": [
    "requisicao = requests.get(f'{link}/Vendas/.json')\n",
    "print(requisicao)\n",
    "\n",
    "dic_requisicao = requisicao.json()\n",
    "\n",
    "id_maria = None\n",
    "for id_venda in dic_requisicao:\n",
    "    cliente = dic_requisicao[id_venda]['cliente']\n",
    "    if cliente == 'Maria':\n",
    "        print(id_venda)\n",
    "        id_maria = id_venda"
   ]
  },
  {
   "attachments": {},
   "cell_type": "markdown",
   "metadata": {},
   "source": [
    "###### Deletar uma Venda ou Produto (DELETE)"
   ]
  },
  {
   "cell_type": "code",
   "execution_count": 35,
   "metadata": {},
   "outputs": [
    {
     "name": "stdout",
     "output_type": "stream",
     "text": [
      "<Response [200]>\n",
      "null\n"
     ]
    }
   ],
   "source": [
    "requisicao = requests.delete(f'{link}/Vendas/{id_maria}/.json')\n",
    "print(requisicao)\n",
    "print(requisicao.text)"
   ]
  }
 ],
 "metadata": {
  "kernelspec": {
   "display_name": "base",
   "language": "python",
   "name": "python3"
  },
  "language_info": {
   "name": "python",
   "version": "3.9.7"
  },
  "orig_nbformat": 4,
  "vscode": {
   "interpreter": {
    "hash": "050e05a3433b3439c75c3996882c7a94442b00aaf0a5c5f8ac5c4068c5ae1f8a"
   }
  }
 },
 "nbformat": 4,
 "nbformat_minor": 2
}
